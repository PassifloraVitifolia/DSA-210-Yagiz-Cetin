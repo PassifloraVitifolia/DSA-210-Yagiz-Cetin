{
  "cells": [
    {
      "cell_type": "markdown",
      "id": "7b1c22e0",
      "metadata": {
        "id": "7b1c22e0"
      },
      "source": [
        "# 🤖 Machine Learning Analysis: Predicting Airbnb Prices from Crime Rates\n",
        "This notebook applies regression models to predict Airbnb prices using crime data (Robbery and Assault per 100k residents)."
      ]
    },
    {
      "cell_type": "code",
      "execution_count": 3,
      "id": "676e82d7",
      "metadata": {
        "id": "676e82d7"
      },
      "outputs": [],
      "source": [
        "import pandas as pd\n",
        "import matplotlib.pyplot as plt\n",
        "import seaborn as sns\n",
        "from sklearn.model_selection import train_test_split\n",
        "from sklearn.preprocessing import StandardScaler\n",
        "from sklearn.linear_model import LinearRegression\n",
        "from sklearn.ensemble import RandomForestRegressor\n",
        "from sklearn.metrics import mean_squared_error, r2_score\n",
        "\n",
        "sns.set(style='whitegrid')"
      ]
    },
    {
      "cell_type": "markdown",
      "id": "72d2660c",
      "metadata": {
        "id": "72d2660c"
      },
      "source": [
        "## 📥 Load Dataset"
      ]
    },
    {
      "cell_type": "code",
      "execution_count": 4,
      "id": "219045a4",
      "metadata": {
        "colab": {
          "base_uri": "https://localhost:8080/",
          "height": 204
        },
        "id": "219045a4",
        "outputId": "bfc93ced-f56e-40f7-fc95-fc8f9af8aed3"
      },
      "outputs": [
        {
          "output_type": "execute_result",
          "data": {
            "text/plain": [
              "          State  Robbery_Count  Assault_Count  Population  Robbery_per_100k  \\\n",
              "0    California          69571         152589    39430000        176.441796   \n",
              "1         Texas         231345         440114    31290000        739.357622   \n",
              "2  Rhode Island           4407          12478     1112000        396.312950   \n",
              "3      New York          39186          66813     8258000        474.521676   \n",
              "4        Oregon          27976          69591     4272000        654.868914   \n",
              "\n",
              "   Assault_per_100k  Average_Price  \n",
              "0        386.987066     275.221784  \n",
              "1       1406.564398     289.010552  \n",
              "2       1122.122302     339.301494  \n",
              "3        809.069993     207.752039  \n",
              "4       1629.002809     128.218975  "
            ],
            "text/html": [
              "\n",
              "  <div id=\"df-a79ae51b-f9b7-4fae-b36e-03f0cbf7e8ba\" class=\"colab-df-container\">\n",
              "    <div>\n",
              "<style scoped>\n",
              "    .dataframe tbody tr th:only-of-type {\n",
              "        vertical-align: middle;\n",
              "    }\n",
              "\n",
              "    .dataframe tbody tr th {\n",
              "        vertical-align: top;\n",
              "    }\n",
              "\n",
              "    .dataframe thead th {\n",
              "        text-align: right;\n",
              "    }\n",
              "</style>\n",
              "<table border=\"1\" class=\"dataframe\">\n",
              "  <thead>\n",
              "    <tr style=\"text-align: right;\">\n",
              "      <th></th>\n",
              "      <th>State</th>\n",
              "      <th>Robbery_Count</th>\n",
              "      <th>Assault_Count</th>\n",
              "      <th>Population</th>\n",
              "      <th>Robbery_per_100k</th>\n",
              "      <th>Assault_per_100k</th>\n",
              "      <th>Average_Price</th>\n",
              "    </tr>\n",
              "  </thead>\n",
              "  <tbody>\n",
              "    <tr>\n",
              "      <th>0</th>\n",
              "      <td>California</td>\n",
              "      <td>69571</td>\n",
              "      <td>152589</td>\n",
              "      <td>39430000</td>\n",
              "      <td>176.441796</td>\n",
              "      <td>386.987066</td>\n",
              "      <td>275.221784</td>\n",
              "    </tr>\n",
              "    <tr>\n",
              "      <th>1</th>\n",
              "      <td>Texas</td>\n",
              "      <td>231345</td>\n",
              "      <td>440114</td>\n",
              "      <td>31290000</td>\n",
              "      <td>739.357622</td>\n",
              "      <td>1406.564398</td>\n",
              "      <td>289.010552</td>\n",
              "    </tr>\n",
              "    <tr>\n",
              "      <th>2</th>\n",
              "      <td>Rhode Island</td>\n",
              "      <td>4407</td>\n",
              "      <td>12478</td>\n",
              "      <td>1112000</td>\n",
              "      <td>396.312950</td>\n",
              "      <td>1122.122302</td>\n",
              "      <td>339.301494</td>\n",
              "    </tr>\n",
              "    <tr>\n",
              "      <th>3</th>\n",
              "      <td>New York</td>\n",
              "      <td>39186</td>\n",
              "      <td>66813</td>\n",
              "      <td>8258000</td>\n",
              "      <td>474.521676</td>\n",
              "      <td>809.069993</td>\n",
              "      <td>207.752039</td>\n",
              "    </tr>\n",
              "    <tr>\n",
              "      <th>4</th>\n",
              "      <td>Oregon</td>\n",
              "      <td>27976</td>\n",
              "      <td>69591</td>\n",
              "      <td>4272000</td>\n",
              "      <td>654.868914</td>\n",
              "      <td>1629.002809</td>\n",
              "      <td>128.218975</td>\n",
              "    </tr>\n",
              "  </tbody>\n",
              "</table>\n",
              "</div>\n",
              "    <div class=\"colab-df-buttons\">\n",
              "\n",
              "  <div class=\"colab-df-container\">\n",
              "    <button class=\"colab-df-convert\" onclick=\"convertToInteractive('df-a79ae51b-f9b7-4fae-b36e-03f0cbf7e8ba')\"\n",
              "            title=\"Convert this dataframe to an interactive table.\"\n",
              "            style=\"display:none;\">\n",
              "\n",
              "  <svg xmlns=\"http://www.w3.org/2000/svg\" height=\"24px\" viewBox=\"0 -960 960 960\">\n",
              "    <path d=\"M120-120v-720h720v720H120Zm60-500h600v-160H180v160Zm220 220h160v-160H400v160Zm0 220h160v-160H400v160ZM180-400h160v-160H180v160Zm440 0h160v-160H620v160ZM180-180h160v-160H180v160Zm440 0h160v-160H620v160Z\"/>\n",
              "  </svg>\n",
              "    </button>\n",
              "\n",
              "  <style>\n",
              "    .colab-df-container {\n",
              "      display:flex;\n",
              "      gap: 12px;\n",
              "    }\n",
              "\n",
              "    .colab-df-convert {\n",
              "      background-color: #E8F0FE;\n",
              "      border: none;\n",
              "      border-radius: 50%;\n",
              "      cursor: pointer;\n",
              "      display: none;\n",
              "      fill: #1967D2;\n",
              "      height: 32px;\n",
              "      padding: 0 0 0 0;\n",
              "      width: 32px;\n",
              "    }\n",
              "\n",
              "    .colab-df-convert:hover {\n",
              "      background-color: #E2EBFA;\n",
              "      box-shadow: 0px 1px 2px rgba(60, 64, 67, 0.3), 0px 1px 3px 1px rgba(60, 64, 67, 0.15);\n",
              "      fill: #174EA6;\n",
              "    }\n",
              "\n",
              "    .colab-df-buttons div {\n",
              "      margin-bottom: 4px;\n",
              "    }\n",
              "\n",
              "    [theme=dark] .colab-df-convert {\n",
              "      background-color: #3B4455;\n",
              "      fill: #D2E3FC;\n",
              "    }\n",
              "\n",
              "    [theme=dark] .colab-df-convert:hover {\n",
              "      background-color: #434B5C;\n",
              "      box-shadow: 0px 1px 3px 1px rgba(0, 0, 0, 0.15);\n",
              "      filter: drop-shadow(0px 1px 2px rgba(0, 0, 0, 0.3));\n",
              "      fill: #FFFFFF;\n",
              "    }\n",
              "  </style>\n",
              "\n",
              "    <script>\n",
              "      const buttonEl =\n",
              "        document.querySelector('#df-a79ae51b-f9b7-4fae-b36e-03f0cbf7e8ba button.colab-df-convert');\n",
              "      buttonEl.style.display =\n",
              "        google.colab.kernel.accessAllowed ? 'block' : 'none';\n",
              "\n",
              "      async function convertToInteractive(key) {\n",
              "        const element = document.querySelector('#df-a79ae51b-f9b7-4fae-b36e-03f0cbf7e8ba');\n",
              "        const dataTable =\n",
              "          await google.colab.kernel.invokeFunction('convertToInteractive',\n",
              "                                                    [key], {});\n",
              "        if (!dataTable) return;\n",
              "\n",
              "        const docLinkHtml = 'Like what you see? Visit the ' +\n",
              "          '<a target=\"_blank\" href=https://colab.research.google.com/notebooks/data_table.ipynb>data table notebook</a>'\n",
              "          + ' to learn more about interactive tables.';\n",
              "        element.innerHTML = '';\n",
              "        dataTable['output_type'] = 'display_data';\n",
              "        await google.colab.output.renderOutput(dataTable, element);\n",
              "        const docLink = document.createElement('div');\n",
              "        docLink.innerHTML = docLinkHtml;\n",
              "        element.appendChild(docLink);\n",
              "      }\n",
              "    </script>\n",
              "  </div>\n",
              "\n",
              "\n",
              "    <div id=\"df-fff0d7bd-e9a7-4ede-92e8-2a095a3ddd7f\">\n",
              "      <button class=\"colab-df-quickchart\" onclick=\"quickchart('df-fff0d7bd-e9a7-4ede-92e8-2a095a3ddd7f')\"\n",
              "                title=\"Suggest charts\"\n",
              "                style=\"display:none;\">\n",
              "\n",
              "<svg xmlns=\"http://www.w3.org/2000/svg\" height=\"24px\"viewBox=\"0 0 24 24\"\n",
              "     width=\"24px\">\n",
              "    <g>\n",
              "        <path d=\"M19 3H5c-1.1 0-2 .9-2 2v14c0 1.1.9 2 2 2h14c1.1 0 2-.9 2-2V5c0-1.1-.9-2-2-2zM9 17H7v-7h2v7zm4 0h-2V7h2v10zm4 0h-2v-4h2v4z\"/>\n",
              "    </g>\n",
              "</svg>\n",
              "      </button>\n",
              "\n",
              "<style>\n",
              "  .colab-df-quickchart {\n",
              "      --bg-color: #E8F0FE;\n",
              "      --fill-color: #1967D2;\n",
              "      --hover-bg-color: #E2EBFA;\n",
              "      --hover-fill-color: #174EA6;\n",
              "      --disabled-fill-color: #AAA;\n",
              "      --disabled-bg-color: #DDD;\n",
              "  }\n",
              "\n",
              "  [theme=dark] .colab-df-quickchart {\n",
              "      --bg-color: #3B4455;\n",
              "      --fill-color: #D2E3FC;\n",
              "      --hover-bg-color: #434B5C;\n",
              "      --hover-fill-color: #FFFFFF;\n",
              "      --disabled-bg-color: #3B4455;\n",
              "      --disabled-fill-color: #666;\n",
              "  }\n",
              "\n",
              "  .colab-df-quickchart {\n",
              "    background-color: var(--bg-color);\n",
              "    border: none;\n",
              "    border-radius: 50%;\n",
              "    cursor: pointer;\n",
              "    display: none;\n",
              "    fill: var(--fill-color);\n",
              "    height: 32px;\n",
              "    padding: 0;\n",
              "    width: 32px;\n",
              "  }\n",
              "\n",
              "  .colab-df-quickchart:hover {\n",
              "    background-color: var(--hover-bg-color);\n",
              "    box-shadow: 0 1px 2px rgba(60, 64, 67, 0.3), 0 1px 3px 1px rgba(60, 64, 67, 0.15);\n",
              "    fill: var(--button-hover-fill-color);\n",
              "  }\n",
              "\n",
              "  .colab-df-quickchart-complete:disabled,\n",
              "  .colab-df-quickchart-complete:disabled:hover {\n",
              "    background-color: var(--disabled-bg-color);\n",
              "    fill: var(--disabled-fill-color);\n",
              "    box-shadow: none;\n",
              "  }\n",
              "\n",
              "  .colab-df-spinner {\n",
              "    border: 2px solid var(--fill-color);\n",
              "    border-color: transparent;\n",
              "    border-bottom-color: var(--fill-color);\n",
              "    animation:\n",
              "      spin 1s steps(1) infinite;\n",
              "  }\n",
              "\n",
              "  @keyframes spin {\n",
              "    0% {\n",
              "      border-color: transparent;\n",
              "      border-bottom-color: var(--fill-color);\n",
              "      border-left-color: var(--fill-color);\n",
              "    }\n",
              "    20% {\n",
              "      border-color: transparent;\n",
              "      border-left-color: var(--fill-color);\n",
              "      border-top-color: var(--fill-color);\n",
              "    }\n",
              "    30% {\n",
              "      border-color: transparent;\n",
              "      border-left-color: var(--fill-color);\n",
              "      border-top-color: var(--fill-color);\n",
              "      border-right-color: var(--fill-color);\n",
              "    }\n",
              "    40% {\n",
              "      border-color: transparent;\n",
              "      border-right-color: var(--fill-color);\n",
              "      border-top-color: var(--fill-color);\n",
              "    }\n",
              "    60% {\n",
              "      border-color: transparent;\n",
              "      border-right-color: var(--fill-color);\n",
              "    }\n",
              "    80% {\n",
              "      border-color: transparent;\n",
              "      border-right-color: var(--fill-color);\n",
              "      border-bottom-color: var(--fill-color);\n",
              "    }\n",
              "    90% {\n",
              "      border-color: transparent;\n",
              "      border-bottom-color: var(--fill-color);\n",
              "    }\n",
              "  }\n",
              "</style>\n",
              "\n",
              "      <script>\n",
              "        async function quickchart(key) {\n",
              "          const quickchartButtonEl =\n",
              "            document.querySelector('#' + key + ' button');\n",
              "          quickchartButtonEl.disabled = true;  // To prevent multiple clicks.\n",
              "          quickchartButtonEl.classList.add('colab-df-spinner');\n",
              "          try {\n",
              "            const charts = await google.colab.kernel.invokeFunction(\n",
              "                'suggestCharts', [key], {});\n",
              "          } catch (error) {\n",
              "            console.error('Error during call to suggestCharts:', error);\n",
              "          }\n",
              "          quickchartButtonEl.classList.remove('colab-df-spinner');\n",
              "          quickchartButtonEl.classList.add('colab-df-quickchart-complete');\n",
              "        }\n",
              "        (() => {\n",
              "          let quickchartButtonEl =\n",
              "            document.querySelector('#df-fff0d7bd-e9a7-4ede-92e8-2a095a3ddd7f button');\n",
              "          quickchartButtonEl.style.display =\n",
              "            google.colab.kernel.accessAllowed ? 'block' : 'none';\n",
              "        })();\n",
              "      </script>\n",
              "    </div>\n",
              "\n",
              "    </div>\n",
              "  </div>\n"
            ],
            "application/vnd.google.colaboratory.intrinsic+json": {
              "type": "dataframe",
              "variable_name": "merged_data",
              "summary": "{\n  \"name\": \"merged_data\",\n  \"rows\": 6,\n  \"fields\": [\n    {\n      \"column\": \"State\",\n      \"properties\": {\n        \"dtype\": \"string\",\n        \"num_unique_values\": 6,\n        \"samples\": [\n          \"California\",\n          \"Texas\",\n          \"Washington\"\n        ],\n        \"semantic_type\": \"\",\n        \"description\": \"\"\n      }\n    },\n    {\n      \"column\": \"Robbery_Count\",\n      \"properties\": {\n        \"dtype\": \"number\",\n        \"std\": 81178,\n        \"min\": 4407,\n        \"max\": 231345,\n        \"num_unique_values\": 6,\n        \"samples\": [\n          69571,\n          231345,\n          73489\n        ],\n        \"semantic_type\": \"\",\n        \"description\": \"\"\n      }\n    },\n    {\n      \"column\": \"Assault_Count\",\n      \"properties\": {\n        \"dtype\": \"number\",\n        \"std\": 152866,\n        \"min\": 12478,\n        \"max\": 440114,\n        \"num_unique_values\": 6,\n        \"samples\": [\n          152589,\n          440114,\n          126838\n        ],\n        \"semantic_type\": \"\",\n        \"description\": \"\"\n      }\n    },\n    {\n      \"column\": \"Population\",\n      \"properties\": {\n        \"dtype\": \"number\",\n        \"std\": 15901589,\n        \"min\": 1112000,\n        \"max\": 39430000,\n        \"num_unique_values\": 6,\n        \"samples\": [\n          39430000,\n          31290000,\n          7958000\n        ],\n        \"semantic_type\": \"\",\n        \"description\": \"\"\n      }\n    },\n    {\n      \"column\": \"Robbery_per_100k\",\n      \"properties\": {\n        \"dtype\": \"number\",\n        \"std\": 266.2651720648371,\n        \"min\": 176.4417955871164,\n        \"max\": 923.4606685096758,\n        \"num_unique_values\": 6,\n        \"samples\": [\n          176.4417955871164,\n          739.3576222435282,\n          923.4606685096758\n        ],\n        \"semantic_type\": \"\",\n        \"description\": \"\"\n      }\n    },\n    {\n      \"column\": \"Assault_per_100k\",\n      \"properties\": {\n        \"dtype\": \"number\",\n        \"std\": 488.075202865343,\n        \"min\": 386.98706568602586,\n        \"max\": 1629.002808988764,\n        \"num_unique_values\": 6,\n        \"samples\": [\n          386.98706568602586,\n          1406.5643975711089,\n          1593.842674038703\n        ],\n        \"semantic_type\": \"\",\n        \"description\": \"\"\n      }\n    },\n    {\n      \"column\": \"Average_Price\",\n      \"properties\": {\n        \"dtype\": \"number\",\n        \"std\": 80.03743080245555,\n        \"min\": 128.21897460469577,\n        \"max\": 339.30149379339366,\n        \"num_unique_values\": 6,\n        \"samples\": [\n          275.2217840035058,\n          289.0105523125281,\n          168.123117884686\n        ],\n        \"semantic_type\": \"\",\n        \"description\": \"\"\n      }\n    }\n  ]\n}"
            }
          },
          "metadata": {},
          "execution_count": 4
        }
      ],
      "source": [
        "# Load the merged dataset\n",
        "merged_data = pd.read_csv('/mnt/data/merged_crime_airbnb_data.csv')\n",
        "merged_data.head()"
      ]
    },
    {
      "cell_type": "markdown",
      "id": "3c03fe43",
      "metadata": {
        "id": "3c03fe43"
      },
      "source": [
        "## 🎯 Features and Target\n",
        "- **Features**: Robbery and Assault rates per 100k people\n",
        "- **Target**: Average Airbnb price in each state"
      ]
    },
    {
      "cell_type": "code",
      "execution_count": 5,
      "id": "22d4cf83",
      "metadata": {
        "id": "22d4cf83"
      },
      "outputs": [],
      "source": [
        "# Feature selection\n",
        "X = merged_data[['Robbery_per_100k', 'Assault_per_100k']]\n",
        "y = merged_data['Average_Price']\n",
        "\n",
        "# Train/test split\n",
        "X_train, X_test, y_train, y_test = train_test_split(X, y, test_size=0.2, random_state=42)\n",
        "\n",
        "# Scaling\n",
        "scaler = StandardScaler()\n",
        "X_train_scaled = scaler.fit_transform(X_train)\n",
        "X_test_scaled = scaler.transform(X_test)"
      ]
    },
    {
      "cell_type": "markdown",
      "id": "65c14f48",
      "metadata": {
        "id": "65c14f48"
      },
      "source": [
        "## 🔹 Linear Regression"
      ]
    },
    {
      "cell_type": "code",
      "execution_count": 6,
      "id": "0df7e2b1",
      "metadata": {
        "colab": {
          "base_uri": "https://localhost:8080/"
        },
        "id": "0df7e2b1",
        "outputId": "41e2cdfb-6015-46a1-8cfe-52a350e1d069"
      },
      "outputs": [
        {
          "output_type": "stream",
          "name": "stdout",
          "text": [
            "R² Score: -167.38\n",
            "MSE: 8003.57\n"
          ]
        }
      ],
      "source": [
        "lr = LinearRegression()\n",
        "lr.fit(X_train_scaled, y_train)\n",
        "\n",
        "y_pred_lr = lr.predict(X_test_scaled)\n",
        "print(f\"R² Score: {r2_score(y_test, y_pred_lr):.2f}\")\n",
        "print(f\"MSE: {mean_squared_error(y_test, y_pred_lr):.2f}\")"
      ]
    },
    {
      "cell_type": "markdown",
      "id": "2ad61a33",
      "metadata": {
        "id": "2ad61a33"
      },
      "source": [
        "## 🔸 Random Forest Regressor"
      ]
    },
    {
      "cell_type": "code",
      "execution_count": 7,
      "id": "546f3512",
      "metadata": {
        "colab": {
          "base_uri": "https://localhost:8080/"
        },
        "id": "546f3512",
        "outputId": "046d40de-322a-45d1-c8e8-06ed8c75e24d"
      },
      "outputs": [
        {
          "output_type": "stream",
          "name": "stdout",
          "text": [
            "R² Score: -174.01\n",
            "MSE: 8318.43\n"
          ]
        }
      ],
      "source": [
        "rf = RandomForestRegressor(random_state=42)\n",
        "rf.fit(X_train, y_train)\n",
        "\n",
        "y_pred_rf = rf.predict(X_test)\n",
        "print(f\"R² Score: {r2_score(y_test, y_pred_rf):.2f}\")\n",
        "print(f\"MSE: {mean_squared_error(y_test, y_pred_rf):.2f}\")"
      ]
    },
    {
      "cell_type": "markdown",
      "id": "6fabfb72",
      "metadata": {
        "id": "6fabfb72"
      },
      "source": [
        "## 📌 Feature Importance (Random Forest)"
      ]
    },
    {
      "cell_type": "code",
      "execution_count": 8,
      "id": "931bcd99",
      "metadata": {
        "colab": {
          "base_uri": "https://localhost:8080/",
          "height": 480
        },
        "id": "931bcd99",
        "outputId": "07d28040-4d5a-4877-e992-0721805c10ed"
      },
      "outputs": [
        {
          "output_type": "display_data",
          "data": {
            "text/plain": [
              "<Figure size 640x480 with 1 Axes>"
            ],
            "image/png": "[encoded data removed]"
          },
          "metadata": {}
        }
      ],
      "source": [
        "feat_importances = pd.Series(rf.feature_importances_, index=X.columns)\n",
        "feat_importances.sort_values().plot(kind='barh', title='Feature Importances')\n",
        "plt.xlabel('Importance')\n",
        "plt.show()"
      ]
    },
    {
      "cell_type": "markdown",
      "source": [
        "## 🧠 What Does Feature Importance Mean?\n",
        "\n",
        "The bar chart above shows how much each input variable (feature) contributes to predicting the average Airbnb price, according to the Random Forest model.\n",
        "\n",
        "- **Higher values** indicate features that the model relied on more heavily to make decisions.\n",
        "- **Lower values** suggest less influence on the final prediction.\n",
        "\n",
        "For example:\n",
        "- If `Assault_per_100k` has higher importance than `Robbery_per_100k`, it means that Airbnb prices tend to vary more consistently with assault rates than robbery rates — at least according to the model.\n",
        "\n",
        "🔍 **Note**: These importances are based on how much each feature reduces prediction error across all decision trees in the forest.\n"
      ],
      "metadata": {
        "id": "h6uD47EzAxQi"
      },
      "id": "h6uD47EzAxQi"
    }
  ],
  "metadata": {
    "colab": {
      "provenance": []
    },
    "language_info": {
      "name": "python"
    },
    "kernelspec": {
      "name": "python3",
      "display_name": "Python 3"
    }
  },
  "nbformat": 4,
  "nbformat_minor": 5
}